{
 "cells": [
  {
   "cell_type": "code",
   "execution_count": 2,
   "id": "ffc3bd77",
   "metadata": {},
   "outputs": [],
   "source": [
    "import numpy as np\n",
    "import matplotlib.pyplot as plt\n",
    "from scipy import ndimage\n",
    "from skimage.util import img_as_float\n",
    "from skimage.transform import warp_polar, rotate, rescale\n",
    "from skimage import io\n",
    "import os"
   ]
  },
  {
   "cell_type": "code",
   "execution_count": 23,
   "id": "7f2887f2",
   "metadata": {},
   "outputs": [],
   "source": [
    "%matplotlib qt"
   ]
  },
  {
   "cell_type": "code",
   "execution_count": 19,
   "id": "e75f972d",
   "metadata": {},
   "outputs": [],
   "source": [
    "in_folder = 'assets'\n",
    "\n",
    "big_dipper_xy = dict()\n",
    "big_dipper_xy['Dubhe'] = (1072, 982)\n",
    "big_dipper_xy['Merak'] = (1158, 792)\n",
    "big_dipper_xy['Phecda'] = (918, 610)\n",
    "big_dipper_xy['Megrez'] = (779, 719)\n",
    "big_dipper_xy['Alioth'] = (569, 665)\n",
    "big_dipper_xy['Mizar'] = (391, 635)\n",
    "big_dipper_xy['Alkaid'] = (202, 428)\n",
    "\n",
    "constellation_coords = []\n",
    "\n",
    "for val in big_dipper_xy.values():\n",
    "    constellation_coords.append(val)\n",
    "constellation_coords = np.array(constellation_coords)"
   ]
  },
  {
   "cell_type": "code",
   "execution_count": 25,
   "id": "cd5792c1",
   "metadata": {},
   "outputs": [
    {
     "name": "stdout",
     "output_type": "stream",
     "text": [
      "-616.632073898088 915.5941377885856\n",
      "[[ 271 2264]\n",
      " [ 720 2169]\n",
      " [ 730 1506]\n",
      " [ 356 1402]\n",
      " [ 178  959]\n",
      " [   0  604]\n",
      " [ 120    0]]\n"
     ]
    },
    {
     "data": {
      "text/plain": [
       "(3570, 2844)"
      ]
     },
     "execution_count": 25,
     "metadata": {},
     "output_type": "execute_result"
    }
   ],
   "source": [
    "scale_factor = 2.2\n",
    "rotation = 53.7\n",
    "\n",
    "image_shape = (1623., 1293.)\n",
    "\n",
    "def right_rotation_matrix(angle, degrees=True):\n",
    "    if degrees:\n",
    "        angle *= np.pi / 180.0\n",
    "    sina = np.sin(angle)\n",
    "    cosa = np.cos(angle)\n",
    "    return np.array([[cosa, sina],\n",
    "                     [-sina, cosa]])\n",
    "\n",
    "scaled_im = np.zeros(shape=(np.array(image_shape) * scale_factor).astype(np.int16))\n",
    "scaled_coords = constellation_coords*scale_factor\n",
    "\n",
    "scaled_rotated_coords = np.dot(scaled_coords, right_rotation_matrix(rotation, degrees=True))\n",
    "r_min = np.min(scaled_rotated_coords[:, 0])\n",
    "c_min = np.min(scaled_rotated_coords[:, 1])\n",
    "print(r_min, c_min)\n",
    "scaled_rotated_coords = scaled_rotated_coords - np.tile(np.array([r_min, c_min]), reps=(scaled_rotated_coords.shape[0], 1))\n",
    "print(scaled_rotated_coords.astype(np.int16))\n",
    "\n",
    "fig, ax = plt.subplots()\n",
    "scaled_im[scaled_rotated_coords[:, 0].astype(np.int16), scaled_rotated_coords[:, 1].astype(np.int16)] = 1\n",
    "gauss_ref_im = ndimage.gaussian_filter(scaled_im, 5)\n",
    "ax.imshow(gauss_ref_im, cmap='gray')\n",
    "gauss_ref_im.shape\n",
    "\n",
    "# io.imsave(os.path.join(in_folder, 'big_dipper_ref.tif'), rescaled)"
   ]
  },
  {
   "cell_type": "code",
   "execution_count": 5,
   "id": "64065aff",
   "metadata": {},
   "outputs": [
    {
     "name": "stderr",
     "output_type": "stream",
     "text": [
      "<ipython-input-5-f35d67abb1aa>:8: UserWarning: assets/big_dipper_ref.tif is a low contrast image\n",
      "  io.imsave(os.path.join(in_folder, 'big_dipper_ref.tif'), rescaled)\n"
     ]
    }
   ],
   "source": [
    "# radius = 1500\n",
    "angle = 53.7\n",
    "scale = 2.2\n",
    "image = img_as_float(gauss_ref_im)\n",
    "rotated = rotate(image, angle)\n",
    "rescaled = rescale(rotated, scale)\n",
    "\n"
   ]
  },
  {
   "cell_type": "code",
   "execution_count": null,
   "id": "458f3726",
   "metadata": {},
   "outputs": [],
   "source": []
  }
 ],
 "metadata": {
  "kernelspec": {
   "display_name": "Python 3.8.8 64-bit ('regular': conda)",
   "language": "python",
   "name": "python388jvsc74a57bd0f2e397c25767664f205962f8b6ad4a346f4c65352ba45892a8270187399eb1fa"
  },
  "language_info": {
   "codemirror_mode": {
    "name": "ipython",
    "version": 3
   },
   "file_extension": ".py",
   "mimetype": "text/x-python",
   "name": "python",
   "nbconvert_exporter": "python",
   "pygments_lexer": "ipython3",
   "version": "3.8.8"
  }
 },
 "nbformat": 4,
 "nbformat_minor": 5
}
