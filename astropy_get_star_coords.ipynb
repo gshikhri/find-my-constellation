{
 "cells": [
  {
   "cell_type": "code",
   "execution_count": 1,
   "id": "18913190",
   "metadata": {},
   "outputs": [],
   "source": [
    "from astropy.coordinates import SkyCoord\n",
    "from astropy import units as u"
   ]
  },
  {
   "cell_type": "code",
   "execution_count": 2,
   "id": "a56f1cae",
   "metadata": {},
   "outputs": [],
   "source": [
    "#dictionary of stars in the big dipper\n",
    "big_dipper = dict()\n",
    "big_dipper['Dubhe'] = (\"11 03 43.67152 +61 45 03.7249\")\n",
    "big_dipper['Merak'] = (\"11 01 50.4765370 +56 22 56.733912\")\n",
    "big_dipper['Phecda'] = (\"11 53 49.8473166 +53 41 41.135025\")\n",
    "big_dipper['Megrez'] = (\"12 15 25.5606327 +57 01 57.415606\")\n",
    "big_dipper['Alioth'] = (\"12 54 01.7495922 +55 57 35.362645\")\n",
    "big_dipper['Mizar'] = (\"13 23 55.54048 +54 55 31.2671\")\n",
    "big_dipper['Alkaid'] = (\"13 47 32.43776 +49 18 47.7602\")"
   ]
  },
  {
   "cell_type": "code",
   "execution_count": 3,
   "id": "57f782f8",
   "metadata": {},
   "outputs": [
    {
     "name": "stdout",
     "output_type": "stream",
     "text": [
      "Dubhe <SkyCoord (Galactic): (l, b) in deg\n",
      "    (142.84873691, 51.00859151)>\n",
      "Merak <SkyCoord (Galactic): (l, b) in deg\n",
      "    (149.16610759, 54.8040836)>\n",
      "Phecda <SkyCoord (Galactic): (l, b) in deg\n",
      "    (140.83991338, 61.38488231)>\n",
      "Megrez <SkyCoord (Galactic): (l, b) in deg\n",
      "    (132.56661693, 59.41692391)>\n",
      "Alioth <SkyCoord (Galactic): (l, b) in deg\n",
      "    (122.18003765, 61.16464632)>\n",
      "Mizar <SkyCoord (Galactic): (l, b) in deg\n",
      "    (113.11050336, 61.57907304)>\n",
      "Alkaid <SkyCoord (Galactic): (l, b) in deg\n",
      "    (100.69557278, 65.32245641)>\n"
     ]
    }
   ],
   "source": [
    "galactic_coords = []\n",
    "for key, values in big_dipper.items():\n",
    "    print(key, SkyCoord(values, unit=(u.hourangle, u.deg)).transform_to('galactic'))"
   ]
  },
  {
   "cell_type": "code",
   "execution_count": null,
   "id": "a008b2e7",
   "metadata": {},
   "outputs": [],
   "source": []
  }
 ],
 "metadata": {
  "kernelspec": {
   "display_name": "Python 3.8.8 64-bit ('regular': conda)",
   "language": "python",
   "name": "python388jvsc74a57bd0f2e397c25767664f205962f8b6ad4a346f4c65352ba45892a8270187399eb1fa"
  },
  "language_info": {
   "codemirror_mode": {
    "name": "ipython",
    "version": 3
   },
   "file_extension": ".py",
   "mimetype": "text/x-python",
   "name": "python",
   "nbconvert_exporter": "python",
   "pygments_lexer": "ipython3",
   "version": "3.8.8"
  }
 },
 "nbformat": 4,
 "nbformat_minor": 5
}
