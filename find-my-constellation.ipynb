{
 "cells": [
  {
   "cell_type": "code",
   "execution_count": 99,
   "id": "f7834feb",
   "metadata": {},
   "outputs": [],
   "source": [
    "from skimage import io, feature, filters, transform\n",
    "import os\n",
    "import matplotlib.pyplot as plt\n",
    "import numpy as np\n",
    "import sep\n",
    "from scipy import ndimage\n",
    "from skimage.registration import phase_cross_correlation\n",
    "from scipy.spatial import KDTree, distance"
   ]
  },
  {
   "cell_type": "code",
   "execution_count": 100,
   "id": "40074967",
   "metadata": {},
   "outputs": [],
   "source": [
    "%matplotlib qt"
   ]
  },
  {
   "cell_type": "code",
   "execution_count": 101,
   "id": "07c1e3ee",
   "metadata": {},
   "outputs": [],
   "source": [
    "def get_cluster_coords(image):\n",
    "    threshold = filters.threshold_otsu(image)\n",
    "    binary = image > threshold\n",
    "    label_image, num_labels = ndimage.label(binary)\n",
    "    center_of_masses = ndimage.center_of_mass(binary, label_image, range(num_labels+1))\n",
    "    return center_of_masses[1:]"
   ]
  },
  {
   "cell_type": "code",
   "execution_count": 102,
   "id": "a12e4ff8",
   "metadata": {},
   "outputs": [],
   "source": [
    "def do_constellation_mapping(se_cluster_pos, fq_cluster_pos):\n",
    "    ##performing the classify hits algorithm, starting with making KDTree of se and aligned fq clusters\n",
    "    se_cluster_tree = KDTree(se_cluster_pos)\n",
    "    fq_cluster_tree = KDTree(fq_cluster_pos)\n",
    "    \n",
    "    #creating mapping sets\n",
    "    se_to_fq= set()\n",
    "    fq_to_se= set()\n",
    "    \n",
    "    for i, pt in enumerate(se_cluster_pos):\n",
    "        dist, idx = fq_cluster_tree.query(pt)\n",
    "        se_to_fq.add((i, idx))\n",
    "        \n",
    "    for i, pt in enumerate(fq_cluster_pos):\n",
    "        dist, idx = se_cluster_tree.query(pt)\n",
    "        fq_to_se.add((idx, i))\n",
    "        \n",
    "    mutual_hits = se_to_fq & fq_to_se\n",
    "    non_mutual_hits = se_to_fq ^ fq_to_se\n",
    "    \n",
    "    return (mutual_hits, non_mutual_hits)"
   ]
  },
  {
   "cell_type": "code",
   "execution_count": 103,
   "id": "50e34bbc",
   "metadata": {},
   "outputs": [
    {
     "data": {
      "text/plain": [
       "<matplotlib.image.AxesImage at 0x7fcf7464eb50>"
      ]
     },
     "execution_count": 103,
     "metadata": {},
     "output_type": "execute_result"
    }
   ],
   "source": [
    "in_folder = 'assets'\n",
    "in_file = 'big_dipper_blue_ch.tif'\n",
    "\n",
    "source_image = io.imread(os.path.join(in_folder, in_file))\n",
    "plt.imshow(source_image, cmap='gray')"
   ]
  },
  {
   "cell_type": "code",
   "execution_count": 104,
   "id": "a3b0d799",
   "metadata": {},
   "outputs": [
    {
     "data": {
      "text/plain": [
       "(1623, 1293)"
      ]
     },
     "execution_count": 104,
     "metadata": {},
     "output_type": "execute_result"
    }
   ],
   "source": [
    "source_image.shape"
   ]
  },
  {
   "cell_type": "code",
   "execution_count": 105,
   "id": "55fcb6ad",
   "metadata": {},
   "outputs": [
    {
     "data": {
      "text/plain": [
       "(10, 3)"
      ]
     },
     "execution_count": 105,
     "metadata": {},
     "output_type": "execute_result"
    }
   ],
   "source": [
    "blobs_log = feature.blob_log(source_image, min_sigma=20, max_sigma=30, num_sigma=10, threshold=.1)\n",
    "blobs_log[:, 2] = blobs_log[:, 2] * np.sqrt(2)\n",
    "blobs_log.shape"
   ]
  },
  {
   "cell_type": "code",
   "execution_count": 106,
   "id": "c14bc176",
   "metadata": {},
   "outputs": [],
   "source": [
    "fig, ax = plt.subplots()\n",
    "ax.imshow(source_image, cmap='gray')\n",
    "for blob in blobs_log:\n",
    "    y, x, r = blob\n",
    "    c = plt.Circle((x, y), r, color='red', linewidth=2, fill=False)\n",
    "    ax.add_patch(c)"
   ]
  },
  {
   "cell_type": "code",
   "execution_count": 107,
   "id": "41ca30ea",
   "metadata": {
    "scrolled": true
   },
   "outputs": [
    {
     "data": {
      "text/plain": [
       "<matplotlib.image.AxesImage at 0x7fcf749e94c0>"
      ]
     },
     "execution_count": 107,
     "metadata": {},
     "output_type": "execute_result"
    }
   ],
   "source": [
    "point_source_im = np.zeros_like(source_image, dtype=np.float32)\n",
    "point_source_im[blobs_log.astype(np.int16)[:, 0], blobs_log.astype(np.int16)[:, 1]] = 1\n",
    "gauss_source_im = ndimage.gaussian_filter(point_source_im, sigma=5)\n",
    "plt.imshow(gauss_source_im, cmap='gray')"
   ]
  },
  {
   "cell_type": "code",
   "execution_count": 108,
   "id": "128de7f7",
   "metadata": {},
   "outputs": [
    {
     "data": {
      "text/plain": [
       "array([[ 569.        ,  665.        ,   28.28427125],\n",
       "       [ 202.        ,  428.        ,   28.28427125],\n",
       "       [ 391.        ,  635.        ,   28.28427125],\n",
       "       [1158.        ,  792.        ,   28.28427125],\n",
       "       [1072.        ,  982.        ,   28.28427125],\n",
       "       [ 918.        ,  610.        ,   28.28427125],\n",
       "       [ 779.        ,  719.        ,   28.28427125],\n",
       "       [1285.        ,  348.        ,   28.28427125],\n",
       "       [ 647.        , 1220.        ,   28.28427125],\n",
       "       [ 254.        , 1058.        ,   28.28427125]])"
      ]
     },
     "execution_count": 108,
     "metadata": {},
     "output_type": "execute_result"
    }
   ],
   "source": [
    "blobs_log"
   ]
  },
  {
   "cell_type": "code",
   "execution_count": 109,
   "id": "6097b1b1",
   "metadata": {},
   "outputs": [
    {
     "data": {
      "text/plain": [
       "<matplotlib.image.AxesImage at 0x7fcf418a0670>"
      ]
     },
     "execution_count": 109,
     "metadata": {},
     "output_type": "execute_result"
    }
   ],
   "source": [
    "ref_im_file_name = 'big_dipper_ref.tif'\n",
    "ref_im = io.imread(os.path.join(in_folder, ref_im_file_name))\n",
    "plt.imshow(ref_im, cmap='gray')"
   ]
  },
  {
   "cell_type": "code",
   "execution_count": 114,
   "id": "8e88c08e",
   "metadata": {},
   "outputs": [
    {
     "name": "stdout",
     "output_type": "stream",
     "text": [
      "rotation: 53.7\n",
      "scaling difference: 2.200333482301876\n"
     ]
    }
   ],
   "source": [
    "radius = 1500 #radius for the polar warp \n",
    "source_im_polar = transform.warp_polar(gauss_source_im, radius=radius, scaling='log')\n",
    "ref_im_polar = transform.warp_polar(ref_im, radius=radius, scaling='log')\n",
    "\n",
    "\n",
    "shifts, error, phasediff = phase_cross_correlation(source_im_polar, ref_im_polar, upsample_factor=20)\n",
    "shiftr, shiftc = shifts[:2]\n",
    "\n",
    "# Calculate scale factor from translation\n",
    "klog = radius / np.log(radius)\n",
    "shift_scale = 1 / (np.exp(shiftc / klog))\n",
    "\n",
    "print(f'rotation: {shiftr}')\n",
    "print(f'scaling difference: {shift_scale}')"
   ]
  },
  {
   "cell_type": "code",
   "execution_count": 115,
   "id": "e9dc5a68",
   "metadata": {},
   "outputs": [],
   "source": [
    "scaled_im = transform.rescale(transform.rotate(gauss_source_im, shiftr), shift_scale)\n",
    "center_of_masses = get_cluster_coords(scaled_im)\n",
    "src = get_cluster_coords(ref_im)\n",
    "dst = center_of_masses\n",
    "fig, ax = plt.subplots(nrows=1, ncols=2)\n",
    "ax[0].imshow(ref_im, cmap='gray')\n",
    "for center in src:\n",
    "    c = plt.Circle((center[1], center[0]), 25, color='red', linewidth=2, fill=False)\n",
    "    ax[0].add_patch(c)\n",
    "ax[1].imshow(scaled_im, cmap='gray')\n",
    "for center in dst:\n",
    "    c = plt.Circle((center[1], center[0]), 25, color='red', linewidth=2, fill=False)\n",
    "    ax[1].add_patch(c)"
   ]
  },
  {
   "cell_type": "code",
   "execution_count": 116,
   "id": "8bc82896",
   "metadata": {},
   "outputs": [
    {
     "name": "stdout",
     "output_type": "stream",
     "text": [
      "(1436.0958762886598, 1017.6876288659794) (1436.0958762886598, 1017.6876288659794)\n",
      "(1988.1938144329897, 1564.8762886597938) (1988.1938144329897, 1564.8762886597938)\n",
      "(1613.8876288659794, 1460.2824742268042) (1613.8876288659794, 1460.2824742268042)\n",
      "(1978.0887512899897, 2227.514963880289) (1978.0887512899897, 2227.514963880289)\n",
      "(1257.3264675592172, 662.9155509783728) (1257.3264675592172, 662.9155509783728)\n",
      "(1378.2466460268317, 58.076367389060884) (1378.2466460268317, 58.076367389060884)\n",
      "(1529.129363449692, 2322.5) (1529.129363449692, 2322.5)\n"
     ]
    }
   ],
   "source": [
    "mutual_hits, non_mutual_hits = do_constellation_mapping(src, dst)\n",
    "for hit in mutual_hits:\n",
    "    print(src[hit[0]], dst[hit[1]])"
   ]
  },
  {
   "cell_type": "code",
   "execution_count": 126,
   "id": "4dccd469",
   "metadata": {},
   "outputs": [
    {
     "name": "stdout",
     "output_type": "stream",
     "text": [
      "-1545.2959103277656 915.732926170701\n",
      "[[1107  959]\n",
      " [1049    0]\n",
      " [ 928  604]\n",
      " [1649 2169]\n",
      " [1200 2264]\n",
      " [1659 1506]\n",
      " [1285 1402]\n",
      " [2602 1816]\n",
      " [ 224 1820]\n",
      " [   0  912]]\n"
     ]
    }
   ],
   "source": [
    "def right_rotation_matrix(angle, degrees=True):\n",
    "    if degrees:\n",
    "        angle *= np.pi / 180.0\n",
    "    sina = np.sin(angle)\n",
    "    cosa = np.cos(angle)\n",
    "    return np.array([[cosa, sina],\n",
    "                     [-sina, cosa]])\n",
    "\n",
    "scaled_im = np.zeros(shape=(np.array(gauss_source_im.shape) * shift_scale).astype(np.int16))\n",
    "scaled_coords = blobs_log[:, :2]*shift_scale\n",
    "scaled_rotated_coords = np.dot(scaled_coords, right_rotation_matrix(53.7, degrees=True))\n",
    "r_min = np.min(scaled_rotated_coords[:, 0])\n",
    "c_min = np.min(scaled_rotated_coords[:, 1])\n",
    "print(r_min, c_min)\n",
    "scaled_rotated_coords = scaled_rotated_coords - np.tile(np.array([r_min, c_min]), reps=(scaled_rotated_coords.shape[0], 1))\n",
    "print(scaled_rotated_coords.astype(np.int16))"
   ]
  },
  {
   "cell_type": "code",
   "execution_count": 124,
   "id": "510e5a00",
   "metadata": {},
   "outputs": [],
   "source": [
    "scaled_im[scaled_rotated_coords.astype(np.int16)[:, 0], scaled_rotated_coords.astype(np.int16)[:, 1]] = 1\n",
    "gauss_scaled_im = ndimage.gaussian_filter(scaled_im, sigma=5)\n",
    "fig, ax = plt.subplots(nrows=1, ncols=2, sharex=True, sharey=True)\n",
    "ax[0].imshow(ref_im, cmap='gray')\n",
    "for center in src:\n",
    "    c = plt.Circle((center[1], center[0]), 25, color='red', linewidth=2, fill=False)\n",
    "    ax[0].add_patch(c)\n",
    "ax[1].imshow(gauss_scaled_im, cmap='gray')\n",
    "for center in scaled_rotated_coords.astype(np.int16):\n",
    "    c = plt.Circle((center[1], center[0]), 25, color='red', linewidth=2, fill=False)\n",
    "    ax[1].add_patch(c)"
   ]
  },
  {
   "cell_type": "code",
   "execution_count": 97,
   "id": "1a8b1b68",
   "metadata": {},
   "outputs": [
    {
     "name": "stdout",
     "output_type": "stream",
     "text": [
      "(2548.4817898022893, 1743.2330905306972) [2602.05863675 1816.28568188]\n",
      "(445.03108808290153, 942.2466321243523) [  0.        912.8668153]\n",
      "(1714.5960334029228, 1582.5960334029228) [1659.38726313 1506.76867268]\n",
      "(1252.570385818561, 1463.8133472367049) [1285.03129362 1402.26472564]\n"
     ]
    },
    {
     "name": "stderr",
     "output_type": "stream",
     "text": [
      "/opt/anaconda3/envs/regular/lib/python3.8/site-packages/scipy/ndimage/measurements.py:1406: RuntimeWarning: invalid value encountered in true_divide\n",
      "  results = [sum(input * grids[dir].astype(float), labels, index) / normalizer\n"
     ]
    }
   ],
   "source": [
    "src = get_cluster_coords(ref_im)\n",
    "dst = scaled_rotated_coords\n",
    "mutual_hits, non_mutual_hits = do_constellation_mapping(src, dst)\n",
    "for hit in mutual_hits:\n",
    "    print(src[hit[0]], dst[hit[1]])"
   ]
  },
  {
   "cell_type": "code",
   "execution_count": null,
   "id": "eb48e0a0",
   "metadata": {},
   "outputs": [],
   "source": []
  }
 ],
 "metadata": {
  "interpreter": {
   "hash": "f2e397c25767664f205962f8b6ad4a346f4c65352ba45892a8270187399eb1fa"
  },
  "kernelspec": {
   "display_name": "Python 3",
   "language": "python",
   "name": "python3"
  },
  "language_info": {
   "codemirror_mode": {
    "name": "ipython",
    "version": 3
   },
   "file_extension": ".py",
   "mimetype": "text/x-python",
   "name": "python",
   "nbconvert_exporter": "python",
   "pygments_lexer": "ipython3",
   "version": "3.8.8"
  }
 },
 "nbformat": 4,
 "nbformat_minor": 5
}
