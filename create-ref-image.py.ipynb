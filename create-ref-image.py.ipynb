{
 "cells": [
  {
   "cell_type": "code",
   "execution_count": 18,
   "id": "ffc3bd77",
   "metadata": {},
   "outputs": [],
   "source": [
    "import numpy as np\n",
    "import matplotlib.pyplot as plt\n",
    "from scipy import ndimage\n",
    "from skimage.util import img_as_float\n",
    "from skimage.transform import warp_polar, rotate, rescale\n",
    "from skimage import io\n",
    "import os"
   ]
  },
  {
   "cell_type": "code",
   "execution_count": 19,
   "id": "cd5792c1",
   "metadata": {},
   "outputs": [
    {
     "data": {
      "text/plain": [
       "<matplotlib.image.AxesImage at 0x7ff79217f7c0>"
      ]
     },
     "execution_count": 19,
     "metadata": {},
     "output_type": "execute_result"
    },
    {
     "data": {
      "image/png": "[encoded data removed]",
      "text/plain": [
       "<Figure size 432x288 with 1 Axes>"
      ]
     },
     "metadata": {
      "needs_background": "light"
     },
     "output_type": "display_data"
    }
   ],
   "source": [
    "in_folder = 'assets'\n",
    "\n",
    "big_dipper_xy = dict()\n",
    "big_dipper_xy['Dubhe'] = (1072, 982)\n",
    "big_dipper_xy['Merak'] = (1158, 792)\n",
    "big_dipper_xy['Phecda'] = (918, 610)\n",
    "big_dipper_xy['Megrez'] = (779, 719)\n",
    "big_dipper_xy['Alioth'] = (569, 665)\n",
    "big_dipper_xy['Mizar'] = (391, 635)\n",
    "big_dipper_xy['Alkaid'] = (202, 428)\n",
    "\n",
    "image_shape = (1623, 1293)\n",
    "\n",
    "ref_im = np.zeros(shape=image_shape, dtype=np.float32)\n",
    "for key, val in big_dipper_xy.items():\n",
    "    ref_im[val[0], val[1]] = 1\n",
    "gauss_ref_im = ndimage.gaussian_filter(ref_im, sigma=5)\n",
    "\n",
    "fig, ax = plt.subplots()\n",
    "ax.imshow(gauss_ref_im, cmap='gray')"
   ]
  },
  {
   "cell_type": "code",
   "execution_count": 20,
   "id": "64065aff",
   "metadata": {},
   "outputs": [
    {
     "name": "stderr",
     "output_type": "stream",
     "text": [
      "<ipython-input-20-792e3f70cd6e>:8: UserWarning: assets/big_dipper_ref.tif is a low contrast image\n",
      "  io.imsave(os.path.join(in_folder, 'big_dipper_ref.tif'), rescaled)\n"
     ]
    }
   ],
   "source": [
    "radius = 1500\n",
    "angle = 53.7\n",
    "scale = 2.2\n",
    "image = img_as_float(gauss_ref_im)\n",
    "rotated = rotate(image, angle)\n",
    "rescaled = rescale(rotated, scale)\n",
    "\n",
    "io.imsave(os.path.join(in_folder, 'big_dipper_ref.tif'), rescaled)"
   ]
  }
 ],
 "metadata": {
  "kernelspec": {
   "display_name": "Python 3.8.8 64-bit ('regular': conda)",
   "language": "python",
   "name": "python388jvsc74a57bd0f2e397c25767664f205962f8b6ad4a346f4c65352ba45892a8270187399eb1fa"
  },
  "language_info": {
   "codemirror_mode": {
    "name": "ipython",
    "version": 3
   },
   "file_extension": ".py",
   "mimetype": "text/x-python",
   "name": "python",
   "nbconvert_exporter": "python",
   "pygments_lexer": "ipython3",
   "version": "3.8.8"
  }
 },
 "nbformat": 4,
 "nbformat_minor": 5
}
